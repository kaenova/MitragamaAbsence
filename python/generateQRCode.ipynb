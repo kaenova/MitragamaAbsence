{
 "cells": [
  {
   "cell_type": "code",
   "execution_count": null,
   "metadata": {},
   "outputs": [],
   "source": [
    "import sys\n",
    "import qrcode\n",
    "import pandas as pd"
   ]
  },
  {
   "cell_type": "code",
   "execution_count": null,
   "metadata": {},
   "outputs": [],
   "source": [
    "df = pd.read_excel('daftar_sementara.xlsx')"
   ]
  },
  {
   "cell_type": "code",
   "execution_count": null,
   "metadata": {},
   "outputs": [],
   "source": [
    "print(\"kamu\" + \"aku\")\r\n",
    "a = 1.0"
   ]
  },
  {
   "cell_type": "code",
   "execution_count": null,
   "metadata": {},
   "outputs": [],
   "source": [
    "len(df)\n",
    "const = 'nan'\n",
    "for i in range(len(df)):\n",
    "    nama  = str(df['NAMA'].iloc[i])\n",
    "    kelas = df['KELAS'].iloc[i]\n",
    "    if nama != const:\n",
    "        input_string = \"{ \\\"Nama\\\": \\\"\"+nama+\"\\\", \\\"Kelas\\\": \\\"\"+kelas+\"\\\", \\\"WAOrtu\\\": \\\"\\\" }\"\n",
    "        nama_file = \"{}-{}\".format(nama, kelas)\n",
    "        img = qrcode.make(input_string)\n",
    "        img.save('../data_siswa/{}.png'.format(nama_file))\n",
    "        \n",
    "    "
   ]
  }
 ],
 "metadata": {
  "kernelspec": {
   "display_name": "Python 3.9.2 64-bit",
   "name": "python392jvsc74a57bd0ac59ebe37160ed0dfa835113d9b8498d9f09ceb179beaac4002f036b9467c963"
  },
  "language_info": {
   "codemirror_mode": {
    "name": "ipython",
    "version": 3
   },
   "file_extension": ".py",
   "mimetype": "text/x-python",
   "name": "python",
   "nbconvert_exporter": "python",
   "pygments_lexer": "ipython3",
   "version": "3.9.2"
  },
  "metadata": {
   "interpreter": {
    "hash": "ac59ebe37160ed0dfa835113d9b8498d9f09ceb179beaac4002f036b9467c963"
   }
  },
  "orig_nbformat": 2
 },
 "nbformat": 4,
 "nbformat_minor": 2
}