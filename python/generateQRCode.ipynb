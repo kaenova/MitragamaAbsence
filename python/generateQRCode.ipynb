{
 "cells": [
  {
   "cell_type": "code",
   "execution_count": 1,
   "metadata": {},
   "outputs": [],
   "source": [
    "import sys\n",
    "import qrcode\n",
    "import pandas as pd"
   ]
  },
  {
   "cell_type": "code",
   "execution_count": 16,
   "metadata": {},
   "outputs": [
    {
     "data": {
      "text/html": "<div>\n<style scoped>\n    .dataframe tbody tr th:only-of-type {\n        vertical-align: middle;\n    }\n\n    .dataframe tbody tr th {\n        vertical-align: top;\n    }\n\n    .dataframe thead th {\n        text-align: right;\n    }\n</style>\n<table border=\"1\" class=\"dataframe\">\n  <thead>\n    <tr style=\"text-align: right;\">\n      <th></th>\n      <th>NO</th>\n      <th>NAMA</th>\n      <th>KELAS</th>\n      <th>CAB</th>\n      <th>JAN</th>\n      <th>FEB</th>\n      <th>MAR</th>\n      <th>APR</th>\n      <th>MEI</th>\n      <th>JUN</th>\n      <th>JUL</th>\n      <th>CAT</th>\n    </tr>\n  </thead>\n  <tbody>\n    <tr>\n      <th>0</th>\n      <td>1</td>\n      <td>AGHI</td>\n      <td>1</td>\n      <td>TNI</td>\n      <td>NaN</td>\n      <td>NaN</td>\n      <td>NaN</td>\n      <td>NaN</td>\n      <td>NaN</td>\n      <td>NaN</td>\n      <td>NaN</td>\n      <td>NaN</td>\n    </tr>\n    <tr>\n      <th>1</th>\n      <td>2</td>\n      <td>AKMAL</td>\n      <td>2</td>\n      <td>TNI</td>\n      <td>NaN</td>\n      <td>NaN</td>\n      <td>NaN</td>\n      <td>NaN</td>\n      <td>NaN</td>\n      <td>NaN</td>\n      <td>NaN</td>\n      <td>NaN</td>\n    </tr>\n    <tr>\n      <th>2</th>\n      <td>3</td>\n      <td>ALEESYA</td>\n      <td>3</td>\n      <td>TNI</td>\n      <td>NaN</td>\n      <td>NaN</td>\n      <td>NaN</td>\n      <td>NaN</td>\n      <td>NaN</td>\n      <td>NaN</td>\n      <td>NaN</td>\n      <td>NaN</td>\n    </tr>\n    <tr>\n      <th>3</th>\n      <td>4</td>\n      <td>AURELIA</td>\n      <td>2</td>\n      <td>TNI</td>\n      <td>NaN</td>\n      <td>NaN</td>\n      <td>NaN</td>\n      <td>NaN</td>\n      <td>NaN</td>\n      <td>NaN</td>\n      <td>NaN</td>\n      <td>NaN</td>\n    </tr>\n    <tr>\n      <th>4</th>\n      <td>5</td>\n      <td>AXELLA</td>\n      <td>2</td>\n      <td>TNI</td>\n      <td>NaN</td>\n      <td>NaN</td>\n      <td>NaN</td>\n      <td>NaN</td>\n      <td>NaN</td>\n      <td>NaN</td>\n      <td>NaN</td>\n      <td>NaN</td>\n    </tr>\n    <tr>\n      <th>5</th>\n      <td>6</td>\n      <td>BIMA</td>\n      <td>5</td>\n      <td>TNI</td>\n      <td>NaN</td>\n      <td>NaN</td>\n      <td>NaN</td>\n      <td>NaN</td>\n      <td>NaN</td>\n      <td>NaN</td>\n      <td>NaN</td>\n      <td>NaN</td>\n    </tr>\n    <tr>\n      <th>6</th>\n      <td>7</td>\n      <td>DAFFA</td>\n      <td>7</td>\n      <td>CIT</td>\n      <td>NaN</td>\n      <td>NaN</td>\n      <td>NaN</td>\n      <td>NaN</td>\n      <td>NaN</td>\n      <td>NaN</td>\n      <td>NaN</td>\n      <td>NaN</td>\n    </tr>\n    <tr>\n      <th>7</th>\n      <td>8</td>\n      <td>DEVA</td>\n      <td>9</td>\n      <td>TNI</td>\n      <td>NaN</td>\n      <td>NaN</td>\n      <td>NaN</td>\n      <td>NaN</td>\n      <td>NaN</td>\n      <td>NaN</td>\n      <td>NaN</td>\n      <td>NaN</td>\n    </tr>\n    <tr>\n      <th>8</th>\n      <td>9</td>\n      <td>DIKO</td>\n      <td>7</td>\n      <td>TNI</td>\n      <td>NaN</td>\n      <td>NaN</td>\n      <td>NaN</td>\n      <td>NaN</td>\n      <td>NaN</td>\n      <td>NaN</td>\n      <td>NaN</td>\n      <td>NaN</td>\n    </tr>\n    <tr>\n      <th>9</th>\n      <td>10</td>\n      <td>DINE</td>\n      <td>7</td>\n      <td>TNI</td>\n      <td>NaN</td>\n      <td>NaN</td>\n      <td>NaN</td>\n      <td>NaN</td>\n      <td>NaN</td>\n      <td>NaN</td>\n      <td>NaN</td>\n      <td>NaN</td>\n    </tr>\n    <tr>\n      <th>10</th>\n      <td>11</td>\n      <td>FADIL</td>\n      <td>7</td>\n      <td>TNI</td>\n      <td>NaN</td>\n      <td>NaN</td>\n      <td>NaN</td>\n      <td>NaN</td>\n      <td>NaN</td>\n      <td>NaN</td>\n      <td>NaN</td>\n      <td>NaN</td>\n    </tr>\n    <tr>\n      <th>11</th>\n      <td>12</td>\n      <td>FELIX</td>\n      <td>4</td>\n      <td>CIT</td>\n      <td>NaN</td>\n      <td>NaN</td>\n      <td>NaN</td>\n      <td>NaN</td>\n      <td>NaN</td>\n      <td>NaN</td>\n      <td>NaN</td>\n      <td>NaN</td>\n    </tr>\n    <tr>\n      <th>12</th>\n      <td>13</td>\n      <td>GAZA</td>\n      <td>5</td>\n      <td>TNI</td>\n      <td>NaN</td>\n      <td>NaN</td>\n      <td>NaN</td>\n      <td>NaN</td>\n      <td>NaN</td>\n      <td>NaN</td>\n      <td>NaN</td>\n      <td>NaN</td>\n    </tr>\n    <tr>\n      <th>13</th>\n      <td>14</td>\n      <td>GHANI</td>\n      <td>11</td>\n      <td>CIT</td>\n      <td>NaN</td>\n      <td>NaN</td>\n      <td>NaN</td>\n      <td>NaN</td>\n      <td>NaN</td>\n      <td>NaN</td>\n      <td>NaN</td>\n      <td>NaN</td>\n    </tr>\n    <tr>\n      <th>14</th>\n      <td>15</td>\n      <td>GUSTI AYU</td>\n      <td>10</td>\n      <td>TNI</td>\n      <td>NaN</td>\n      <td>NaN</td>\n      <td>NaN</td>\n      <td>NaN</td>\n      <td>NaN</td>\n      <td>NaN</td>\n      <td>NaN</td>\n      <td>NaN</td>\n    </tr>\n    <tr>\n      <th>15</th>\n      <td>16</td>\n      <td>HADYA</td>\n      <td>7</td>\n      <td>CIT</td>\n      <td>NaN</td>\n      <td>NaN</td>\n      <td>NaN</td>\n      <td>NaN</td>\n      <td>NaN</td>\n      <td>NaN</td>\n      <td>NaN</td>\n      <td>NaN</td>\n    </tr>\n    <tr>\n      <th>16</th>\n      <td>17</td>\n      <td>HAFIZH</td>\n      <td>1</td>\n      <td>CIT</td>\n      <td>NaN</td>\n      <td>NaN</td>\n      <td>NaN</td>\n      <td>NaN</td>\n      <td>NaN</td>\n      <td>NaN</td>\n      <td>NaN</td>\n      <td>NaN</td>\n    </tr>\n    <tr>\n      <th>17</th>\n      <td>18</td>\n      <td>KEYZA</td>\n      <td>6</td>\n      <td>CIT</td>\n      <td>NaN</td>\n      <td>NaN</td>\n      <td>NaN</td>\n      <td>NaN</td>\n      <td>NaN</td>\n      <td>NaN</td>\n      <td>NaN</td>\n      <td>NaN</td>\n    </tr>\n    <tr>\n      <th>18</th>\n      <td>19</td>\n      <td>KHAIDRA</td>\n      <td>5</td>\n      <td>CIT</td>\n      <td>NaN</td>\n      <td>NaN</td>\n      <td>NaN</td>\n      <td>NaN</td>\n      <td>NaN</td>\n      <td>NaN</td>\n      <td>NaN</td>\n      <td>NaN</td>\n    </tr>\n    <tr>\n      <th>19</th>\n      <td>20</td>\n      <td>M AUWAL</td>\n      <td>7</td>\n      <td>TNI</td>\n      <td>NaN</td>\n      <td>NaN</td>\n      <td>NaN</td>\n      <td>NaN</td>\n      <td>NaN</td>\n      <td>NaN</td>\n      <td>NaN</td>\n      <td>NaN</td>\n    </tr>\n    <tr>\n      <th>20</th>\n      <td>21</td>\n      <td>MALIKA</td>\n      <td>5</td>\n      <td>CIT</td>\n      <td>NaN</td>\n      <td>NaN</td>\n      <td>NaN</td>\n      <td>NaN</td>\n      <td>NaN</td>\n      <td>NaN</td>\n      <td>NaN</td>\n      <td>NaN</td>\n    </tr>\n    <tr>\n      <th>21</th>\n      <td>22</td>\n      <td>MAULINA FATHIYA</td>\n      <td>8</td>\n      <td>CIT</td>\n      <td>NaN</td>\n      <td>NaN</td>\n      <td>NaN</td>\n      <td>NaN</td>\n      <td>NaN</td>\n      <td>NaN</td>\n      <td>NaN</td>\n      <td>NaN</td>\n    </tr>\n    <tr>\n      <th>22</th>\n      <td>23</td>\n      <td>NANCY</td>\n      <td>TK</td>\n      <td>CIT</td>\n      <td>NaN</td>\n      <td>NaN</td>\n      <td>NaN</td>\n      <td>NaN</td>\n      <td>NaN</td>\n      <td>NaN</td>\n      <td>NaN</td>\n      <td>NaN</td>\n    </tr>\n    <tr>\n      <th>23</th>\n      <td>24</td>\n      <td>NASWA</td>\n      <td>8</td>\n      <td>CIT</td>\n      <td>NaN</td>\n      <td>NaN</td>\n      <td>NaN</td>\n      <td>NaN</td>\n      <td>NaN</td>\n      <td>NaN</td>\n      <td>NaN</td>\n      <td>NaN</td>\n    </tr>\n    <tr>\n      <th>24</th>\n      <td>25</td>\n      <td>NAZHIA AURELIA</td>\n      <td>5</td>\n      <td>CIT</td>\n      <td>NaN</td>\n      <td>NaN</td>\n      <td>NaN</td>\n      <td>NaN</td>\n      <td>NaN</td>\n      <td>NaN</td>\n      <td>NaN</td>\n      <td>NaN</td>\n    </tr>\n    <tr>\n      <th>25</th>\n      <td>26</td>\n      <td>NELLA</td>\n      <td>5</td>\n      <td>TNI</td>\n      <td>NaN</td>\n      <td>NaN</td>\n      <td>NaN</td>\n      <td>NaN</td>\n      <td>NaN</td>\n      <td>NaN</td>\n      <td>NaN</td>\n      <td>NaN</td>\n    </tr>\n    <tr>\n      <th>26</th>\n      <td>27</td>\n      <td>PUTRI</td>\n      <td>9</td>\n      <td>TNI</td>\n      <td>NaN</td>\n      <td>NaN</td>\n      <td>NaN</td>\n      <td>NaN</td>\n      <td>NaN</td>\n      <td>NaN</td>\n      <td>NaN</td>\n      <td>NaN</td>\n    </tr>\n    <tr>\n      <th>27</th>\n      <td>28</td>\n      <td>QUEENZA</td>\n      <td>4</td>\n      <td>CIT</td>\n      <td>NaN</td>\n      <td>NaN</td>\n      <td>NaN</td>\n      <td>NaN</td>\n      <td>NaN</td>\n      <td>NaN</td>\n      <td>NaN</td>\n      <td>NaN</td>\n    </tr>\n    <tr>\n      <th>28</th>\n      <td>29</td>\n      <td>RADITH</td>\n      <td>6</td>\n      <td>TNI</td>\n      <td>NaN</td>\n      <td>NaN</td>\n      <td>NaN</td>\n      <td>NaN</td>\n      <td>NaN</td>\n      <td>NaN</td>\n      <td>NaN</td>\n      <td>NaN</td>\n    </tr>\n    <tr>\n      <th>29</th>\n      <td>30</td>\n      <td>RAISYA</td>\n      <td>7</td>\n      <td>CIT</td>\n      <td>NaN</td>\n      <td>NaN</td>\n      <td>NaN</td>\n      <td>NaN</td>\n      <td>NaN</td>\n      <td>NaN</td>\n      <td>NaN</td>\n      <td>NaN</td>\n    </tr>\n    <tr>\n      <th>30</th>\n      <td>31</td>\n      <td>RAISYA</td>\n      <td>9</td>\n      <td>TNI</td>\n      <td>NaN</td>\n      <td>NaN</td>\n      <td>NaN</td>\n      <td>NaN</td>\n      <td>NaN</td>\n      <td>NaN</td>\n      <td>NaN</td>\n      <td>NaN</td>\n    </tr>\n    <tr>\n      <th>31</th>\n      <td>32</td>\n      <td>REGIA</td>\n      <td>9</td>\n      <td>TNI</td>\n      <td>NaN</td>\n      <td>NaN</td>\n      <td>NaN</td>\n      <td>NaN</td>\n      <td>NaN</td>\n      <td>NaN</td>\n      <td>NaN</td>\n      <td>NaN</td>\n    </tr>\n    <tr>\n      <th>32</th>\n      <td>33</td>\n      <td>RIZQUE</td>\n      <td>6</td>\n      <td>TNI</td>\n      <td>NaN</td>\n      <td>NaN</td>\n      <td>NaN</td>\n      <td>NaN</td>\n      <td>NaN</td>\n      <td>NaN</td>\n      <td>NaN</td>\n      <td>NaN</td>\n    </tr>\n    <tr>\n      <th>33</th>\n      <td>34</td>\n      <td>SALWA</td>\n      <td>9</td>\n      <td>TNI</td>\n      <td>NaN</td>\n      <td>NaN</td>\n      <td>NaN</td>\n      <td>NaN</td>\n      <td>NaN</td>\n      <td>NaN</td>\n      <td>NaN</td>\n      <td>NaN</td>\n    </tr>\n    <tr>\n      <th>34</th>\n      <td>35</td>\n      <td>ZAHRA</td>\n      <td>6</td>\n      <td>TNI</td>\n      <td>NaN</td>\n      <td>NaN</td>\n      <td>NaN</td>\n      <td>NaN</td>\n      <td>NaN</td>\n      <td>NaN</td>\n      <td>NaN</td>\n      <td>NaN</td>\n    </tr>\n    <tr>\n      <th>35</th>\n      <td>36</td>\n      <td>ZIHNI</td>\n      <td>8</td>\n      <td>TNI</td>\n      <td>NaN</td>\n      <td>NaN</td>\n      <td>NaN</td>\n      <td>NaN</td>\n      <td>NaN</td>\n      <td>NaN</td>\n      <td>NaN</td>\n      <td>NaN</td>\n    </tr>\n    <tr>\n      <th>36</th>\n      <td>37</td>\n      <td>ZIQRI</td>\n      <td>4</td>\n      <td>TNI</td>\n      <td>NaN</td>\n      <td>NaN</td>\n      <td>NaN</td>\n      <td>NaN</td>\n      <td>NaN</td>\n      <td>NaN</td>\n      <td>NaN</td>\n      <td>NaN</td>\n    </tr>\n    <tr>\n      <th>37</th>\n      <td>38</td>\n      <td>ZIYAD</td>\n      <td>6</td>\n      <td>TNI</td>\n      <td>NaN</td>\n      <td>NaN</td>\n      <td>NaN</td>\n      <td>NaN</td>\n      <td>NaN</td>\n      <td>NaN</td>\n      <td>NaN</td>\n      <td>NaN</td>\n    </tr>\n    <tr>\n      <th>38</th>\n      <td>39</td>\n      <td>NaN</td>\n      <td>NaN</td>\n      <td>NaN</td>\n      <td>NaN</td>\n      <td>NaN</td>\n      <td>NaN</td>\n      <td>NaN</td>\n      <td>NaN</td>\n      <td>NaN</td>\n      <td>NaN</td>\n      <td>NaN</td>\n    </tr>\n    <tr>\n      <th>39</th>\n      <td>40</td>\n      <td>NaN</td>\n      <td>NaN</td>\n      <td>NaN</td>\n      <td>NaN</td>\n      <td>NaN</td>\n      <td>NaN</td>\n      <td>NaN</td>\n      <td>NaN</td>\n      <td>NaN</td>\n      <td>NaN</td>\n      <td>NaN</td>\n    </tr>\n  </tbody>\n</table>\n</div>",
      "text/plain": "    NO             NAMA KELAS  CAB  JAN  FEB  MAR  APR  MEI  JUN  JUL  CAT\n0    1             AGHI     1  TNI  NaN  NaN  NaN  NaN  NaN  NaN  NaN  NaN\n1    2            AKMAL     2  TNI  NaN  NaN  NaN  NaN  NaN  NaN  NaN  NaN\n2    3          ALEESYA     3  TNI  NaN  NaN  NaN  NaN  NaN  NaN  NaN  NaN\n3    4          AURELIA     2  TNI  NaN  NaN  NaN  NaN  NaN  NaN  NaN  NaN\n4    5           AXELLA     2  TNI  NaN  NaN  NaN  NaN  NaN  NaN  NaN  NaN\n5    6             BIMA     5  TNI  NaN  NaN  NaN  NaN  NaN  NaN  NaN  NaN\n6    7            DAFFA     7  CIT  NaN  NaN  NaN  NaN  NaN  NaN  NaN  NaN\n7    8             DEVA     9  TNI  NaN  NaN  NaN  NaN  NaN  NaN  NaN  NaN\n8    9             DIKO     7  TNI  NaN  NaN  NaN  NaN  NaN  NaN  NaN  NaN\n9   10             DINE     7  TNI  NaN  NaN  NaN  NaN  NaN  NaN  NaN  NaN\n10  11            FADIL     7  TNI  NaN  NaN  NaN  NaN  NaN  NaN  NaN  NaN\n11  12            FELIX     4  CIT  NaN  NaN  NaN  NaN  NaN  NaN  NaN  NaN\n12  13             GAZA     5  TNI  NaN  NaN  NaN  NaN  NaN  NaN  NaN  NaN\n13  14            GHANI    11  CIT  NaN  NaN  NaN  NaN  NaN  NaN  NaN  NaN\n14  15        GUSTI AYU    10  TNI  NaN  NaN  NaN  NaN  NaN  NaN  NaN  NaN\n15  16            HADYA     7  CIT  NaN  NaN  NaN  NaN  NaN  NaN  NaN  NaN\n16  17           HAFIZH     1  CIT  NaN  NaN  NaN  NaN  NaN  NaN  NaN  NaN\n17  18            KEYZA     6  CIT  NaN  NaN  NaN  NaN  NaN  NaN  NaN  NaN\n18  19          KHAIDRA     5  CIT  NaN  NaN  NaN  NaN  NaN  NaN  NaN  NaN\n19  20          M AUWAL     7  TNI  NaN  NaN  NaN  NaN  NaN  NaN  NaN  NaN\n20  21           MALIKA     5  CIT  NaN  NaN  NaN  NaN  NaN  NaN  NaN  NaN\n21  22  MAULINA FATHIYA     8  CIT  NaN  NaN  NaN  NaN  NaN  NaN  NaN  NaN\n22  23            NANCY    TK  CIT  NaN  NaN  NaN  NaN  NaN  NaN  NaN  NaN\n23  24            NASWA     8  CIT  NaN  NaN  NaN  NaN  NaN  NaN  NaN  NaN\n24  25   NAZHIA AURELIA     5  CIT  NaN  NaN  NaN  NaN  NaN  NaN  NaN  NaN\n25  26            NELLA     5  TNI  NaN  NaN  NaN  NaN  NaN  NaN  NaN  NaN\n26  27            PUTRI     9  TNI  NaN  NaN  NaN  NaN  NaN  NaN  NaN  NaN\n27  28          QUEENZA     4  CIT  NaN  NaN  NaN  NaN  NaN  NaN  NaN  NaN\n28  29           RADITH     6  TNI  NaN  NaN  NaN  NaN  NaN  NaN  NaN  NaN\n29  30           RAISYA     7  CIT  NaN  NaN  NaN  NaN  NaN  NaN  NaN  NaN\n30  31           RAISYA     9  TNI  NaN  NaN  NaN  NaN  NaN  NaN  NaN  NaN\n31  32            REGIA     9  TNI  NaN  NaN  NaN  NaN  NaN  NaN  NaN  NaN\n32  33           RIZQUE     6  TNI  NaN  NaN  NaN  NaN  NaN  NaN  NaN  NaN\n33  34            SALWA     9  TNI  NaN  NaN  NaN  NaN  NaN  NaN  NaN  NaN\n34  35            ZAHRA     6  TNI  NaN  NaN  NaN  NaN  NaN  NaN  NaN  NaN\n35  36            ZIHNI     8  TNI  NaN  NaN  NaN  NaN  NaN  NaN  NaN  NaN\n36  37            ZIQRI     4  TNI  NaN  NaN  NaN  NaN  NaN  NaN  NaN  NaN\n37  38            ZIYAD     6  TNI  NaN  NaN  NaN  NaN  NaN  NaN  NaN  NaN\n38  39              NaN   NaN  NaN  NaN  NaN  NaN  NaN  NaN  NaN  NaN  NaN\n39  40              NaN   NaN  NaN  NaN  NaN  NaN  NaN  NaN  NaN  NaN  NaN"
     },
     "execution_count": 16,
     "metadata": {},
     "output_type": "execute_result"
    }
   ],
   "source": [
    "df = pd.read_excel('daftar_sementara.xlsx')\n",
    "df"
   ]
  },
  {
   "cell_type": "code",
   "execution_count": 35,
   "metadata": {},
   "outputs": [
    {
     "name": "stdout",
     "output_type": "stream",
     "text": [
      "kamuaku\n",
      "1\n"
     ]
    }
   ],
   "source": [
    "print(\"kamu\" + \"aku\")\n",
    "a = 1.0\n",
    "print(str(int(a)))"
   ]
  },
  {
   "cell_type": "code",
   "execution_count": 60,
   "metadata": {},
   "outputs": [],
   "source": [
    "len(df)\n",
    "const = 'nan'\n",
    "for i in range(len(df)):\n",
    "    nama  = str(df['NAMA'].iloc[i])\n",
    "    kelas = df['KELAS'].iloc[i]\n",
    "    if nama != const:\n",
    "        input_string = \"{ \\\"Nama\\\": \\\"\"+nama+\"\\\", \\\"Kelas\\\": \\\"\"+kelas+\"\\\", \\\"WAOrtu\\\": \\\"\\\" }\"\n",
    "        nama_file = \"{}-{}\".format(nama, kelas)\n",
    "        img = qrcode.make(input_string)\n",
    "        img.save('../data_siswa/{}.png'.format(nama_file))\n",
    "        \n",
    "    "
   ]
  },
  {
   "cell_type": "code",
   "execution_count": null,
   "metadata": {},
   "outputs": [],
   "source": []
  }
 ],
 "metadata": {
  "kernelspec": {
   "display_name": "Python 3.8.5 64-bit",
   "name": "python385jvsc74a57bd0e7370f93d1d0cde622a1f8e1c04877d8463912d04d973331ad4851f04de6915a"
  },
  "language_info": {
   "codemirror_mode": {
    "name": "ipython",
    "version": 3
   },
   "file_extension": ".py",
   "mimetype": "text/x-python",
   "name": "python",
   "nbconvert_exporter": "python",
   "pygments_lexer": "ipython3",
   "version": "3.8.5"
  },
  "metadata": {
   "interpreter": {
    "hash": "e7370f93d1d0cde622a1f8e1c04877d8463912d04d973331ad4851f04de6915a"
   }
  },
  "orig_nbformat": 2
 },
 "nbformat": 4,
 "nbformat_minor": 2
}