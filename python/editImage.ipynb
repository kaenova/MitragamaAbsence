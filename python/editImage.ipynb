{
 "cells": [
  {
   "cell_type": "code",
   "execution_count": 1,
   "metadata": {},
   "outputs": [],
   "source": [
    "from PIL import Image\r\n",
    "from PIL import ImageFont\r\n",
    "from PIL import ImageDraw "
   ]
  },
  {
   "cell_type": "code",
   "execution_count": 3,
   "metadata": {},
   "outputs": [],
   "source": [
    "# font = ImageFont.truetype(<font-file>, <font-size>)\r\n",
    "# font-file should be present in provided path.\r\n"
   ]
  },
  {
   "cell_type": "code",
   "execution_count": 81,
   "metadata": {},
   "outputs": [],
   "source": [
    "img = Image.open(\"Clean.jpg\")\r\n",
    "qr = Image.open(\"Unu-Guru.png\")\r\n",
    "draw = ImageDraw.Draw(img)\r\n",
    "# font = ImageFont.truetype(<font-file>, <font-size>)\r\n",
    "# draw.text((x, y),\"Sample Text\",(r,g,b))\r\n",
    "basewidth = 270\r\n",
    "wpercent = (basewidth/float(qr.size[0]))\r\n",
    "hsize = int((float(qr.size[1])*float(wpercent)))\r\n",
    "qr = qr.resize((basewidth,hsize), Image.ANTIALIAS)\r\n",
    "\r\n",
    "font1 = ImageFont.truetype(\"Poppins-Bold.ttf\", 70)\r\n",
    "font2 = ImageFont.truetype(\"Poppins-Light.ttf\", 60)\r\n",
    "draw.text((100, 103),\"Unu\",(255,255,255),font=font1)\r\n",
    "draw.text((100, 180),\"Guru\",(255,255,255),font=font2)\r\n",
    "img.paste(qr,(351,709))\r\n",
    "img.save('sample-out.jpg')"
   ]
  }
 ],
 "metadata": {
  "kernelspec": {
   "display_name": "Python 3.9.2 64-bit",
   "name": "python392jvsc74a57bd0ac59ebe37160ed0dfa835113d9b8498d9f09ceb179beaac4002f036b9467c963"
  },
  "language_info": {
   "name": "python",
   "version": ""
  },
  "metadata": {
   "interpreter": {
    "hash": "ac59ebe37160ed0dfa835113d9b8498d9f09ceb179beaac4002f036b9467c963"
   }
  },
  "orig_nbformat": 2
 },
 "nbformat": 4,
 "nbformat_minor": 2
}